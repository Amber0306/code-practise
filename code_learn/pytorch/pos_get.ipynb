{
 "cells": [
  {
   "cell_type": "code",
   "execution_count": 12,
   "metadata": {},
   "outputs": [],
   "source": [
    "import torch\n",
    "window_size = (7,7)"
   ]
  },
  {
   "cell_type": "code",
   "execution_count": 13,
   "metadata": {},
   "outputs": [
    {
     "name": "stdout",
     "output_type": "stream",
     "text": [
      "tensor([0, 1, 2, 3, 4, 5, 6])\n",
      "tensor([0, 1, 2, 3, 4, 5, 6])\n"
     ]
    }
   ],
   "source": [
    "# get pair-wise relative position index for each token inside the window\n",
    "coords_h = torch.arange(window_size[0])\n",
    "coords_w = torch.arange(window_size[1])\n",
    "print(coords_h)\n",
    "print(coords_w)"
   ]
  },
  {
   "cell_type": "code",
   "execution_count": 14,
   "metadata": {},
   "outputs": [
    {
     "name": "stdout",
     "output_type": "stream",
     "text": [
      "(tensor([[0, 0, 0, 0, 0, 0, 0],\n",
      "        [1, 1, 1, 1, 1, 1, 1],\n",
      "        [2, 2, 2, 2, 2, 2, 2],\n",
      "        [3, 3, 3, 3, 3, 3, 3],\n",
      "        [4, 4, 4, 4, 4, 4, 4],\n",
      "        [5, 5, 5, 5, 5, 5, 5],\n",
      "        [6, 6, 6, 6, 6, 6, 6]]), tensor([[0, 1, 2, 3, 4, 5, 6],\n",
      "        [0, 1, 2, 3, 4, 5, 6],\n",
      "        [0, 1, 2, 3, 4, 5, 6],\n",
      "        [0, 1, 2, 3, 4, 5, 6],\n",
      "        [0, 1, 2, 3, 4, 5, 6],\n",
      "        [0, 1, 2, 3, 4, 5, 6],\n",
      "        [0, 1, 2, 3, 4, 5, 6]]))\n",
      "torch.Size([2, 7, 7])\n",
      "tensor([[[0, 0, 0, 0, 0, 0, 0],\n",
      "         [1, 1, 1, 1, 1, 1, 1],\n",
      "         [2, 2, 2, 2, 2, 2, 2],\n",
      "         [3, 3, 3, 3, 3, 3, 3],\n",
      "         [4, 4, 4, 4, 4, 4, 4],\n",
      "         [5, 5, 5, 5, 5, 5, 5],\n",
      "         [6, 6, 6, 6, 6, 6, 6]],\n",
      "\n",
      "        [[0, 1, 2, 3, 4, 5, 6],\n",
      "         [0, 1, 2, 3, 4, 5, 6],\n",
      "         [0, 1, 2, 3, 4, 5, 6],\n",
      "         [0, 1, 2, 3, 4, 5, 6],\n",
      "         [0, 1, 2, 3, 4, 5, 6],\n",
      "         [0, 1, 2, 3, 4, 5, 6],\n",
      "         [0, 1, 2, 3, 4, 5, 6]]])\n"
     ]
    }
   ],
   "source": [
    "coords = torch.meshgrid([coords_h, coords_w])\n",
    "# print(coords.shape)\n",
    "print(coords)\n",
    "coords = torch.stack(coords)\n",
    "# coords = torch.stack(torch.meshgrid([coords_h, coords_w], indexing=\"ij\"))  # [2, Mh, Mw]\n",
    "print(coords.shape)\n",
    "print(coords)"
   ]
  },
  {
   "cell_type": "code",
   "execution_count": 15,
   "metadata": {},
   "outputs": [
    {
     "name": "stdout",
     "output_type": "stream",
     "text": [
      "torch.Size([2, 49])\n",
      "tensor([[0, 0, 0, 0, 0, 0, 0, 1, 1, 1, 1, 1, 1, 1, 2, 2, 2, 2, 2, 2, 2, 3, 3, 3,\n",
      "         3, 3, 3, 3, 4, 4, 4, 4, 4, 4, 4, 5, 5, 5, 5, 5, 5, 5, 6, 6, 6, 6, 6, 6,\n",
      "         6],\n",
      "        [0, 1, 2, 3, 4, 5, 6, 0, 1, 2, 3, 4, 5, 6, 0, 1, 2, 3, 4, 5, 6, 0, 1, 2,\n",
      "         3, 4, 5, 6, 0, 1, 2, 3, 4, 5, 6, 0, 1, 2, 3, 4, 5, 6, 0, 1, 2, 3, 4, 5,\n",
      "         6]])\n"
     ]
    }
   ],
   "source": [
    "coords_flatten = torch.flatten(coords, 1)  # [2, Mh*Mw]\n",
    "print(coords_flatten.shape)\n",
    "print(coords_flatten)"
   ]
  },
  {
   "cell_type": "code",
   "execution_count": 16,
   "metadata": {},
   "outputs": [
    {
     "name": "stdout",
     "output_type": "stream",
     "text": [
      "tensor([[[0],\n",
      "         [0],\n",
      "         [0],\n",
      "         [0],\n",
      "         [0],\n",
      "         [0],\n",
      "         [0],\n",
      "         [1],\n",
      "         [1],\n",
      "         [1],\n",
      "         [1],\n",
      "         [1],\n",
      "         [1],\n",
      "         [1],\n",
      "         [2],\n",
      "         [2],\n",
      "         [2],\n",
      "         [2],\n",
      "         [2],\n",
      "         [2],\n",
      "         [2],\n",
      "         [3],\n",
      "         [3],\n",
      "         [3],\n",
      "         [3],\n",
      "         [3],\n",
      "         [3],\n",
      "         [3],\n",
      "         [4],\n",
      "         [4],\n",
      "         [4],\n",
      "         [4],\n",
      "         [4],\n",
      "         [4],\n",
      "         [4],\n",
      "         [5],\n",
      "         [5],\n",
      "         [5],\n",
      "         [5],\n",
      "         [5],\n",
      "         [5],\n",
      "         [5],\n",
      "         [6],\n",
      "         [6],\n",
      "         [6],\n",
      "         [6],\n",
      "         [6],\n",
      "         [6],\n",
      "         [6]],\n",
      "\n",
      "        [[0],\n",
      "         [1],\n",
      "         [2],\n",
      "         [3],\n",
      "         [4],\n",
      "         [5],\n",
      "         [6],\n",
      "         [0],\n",
      "         [1],\n",
      "         [2],\n",
      "         [3],\n",
      "         [4],\n",
      "         [5],\n",
      "         [6],\n",
      "         [0],\n",
      "         [1],\n",
      "         [2],\n",
      "         [3],\n",
      "         [4],\n",
      "         [5],\n",
      "         [6],\n",
      "         [0],\n",
      "         [1],\n",
      "         [2],\n",
      "         [3],\n",
      "         [4],\n",
      "         [5],\n",
      "         [6],\n",
      "         [0],\n",
      "         [1],\n",
      "         [2],\n",
      "         [3],\n",
      "         [4],\n",
      "         [5],\n",
      "         [6],\n",
      "         [0],\n",
      "         [1],\n",
      "         [2],\n",
      "         [3],\n",
      "         [4],\n",
      "         [5],\n",
      "         [6],\n",
      "         [0],\n",
      "         [1],\n",
      "         [2],\n",
      "         [3],\n",
      "         [4],\n",
      "         [5],\n",
      "         [6]]])\n",
      "tensor([[[0, 0, 0, 0, 0, 0, 0, 1, 1, 1, 1, 1, 1, 1, 2, 2, 2, 2, 2, 2, 2, 3, 3,\n",
      "          3, 3, 3, 3, 3, 4, 4, 4, 4, 4, 4, 4, 5, 5, 5, 5, 5, 5, 5, 6, 6, 6, 6,\n",
      "          6, 6, 6]],\n",
      "\n",
      "        [[0, 1, 2, 3, 4, 5, 6, 0, 1, 2, 3, 4, 5, 6, 0, 1, 2, 3, 4, 5, 6, 0, 1,\n",
      "          2, 3, 4, 5, 6, 0, 1, 2, 3, 4, 5, 6, 0, 1, 2, 3, 4, 5, 6, 0, 1, 2, 3,\n",
      "          4, 5, 6]]])\n"
     ]
    }
   ],
   "source": [
    "print(coords_flatten[:, :, None])\n",
    "print(coords_flatten[:, None, :])"
   ]
  },
  {
   "cell_type": "code",
   "execution_count": 17,
   "metadata": {},
   "outputs": [
    {
     "name": "stdout",
     "output_type": "stream",
     "text": [
      "torch.Size([2, 49, 49])\n",
      "tensor([[[ 0,  0,  0,  ..., -6, -6, -6],\n",
      "         [ 0,  0,  0,  ..., -6, -6, -6],\n",
      "         [ 0,  0,  0,  ..., -6, -6, -6],\n",
      "         ...,\n",
      "         [ 6,  6,  6,  ...,  0,  0,  0],\n",
      "         [ 6,  6,  6,  ...,  0,  0,  0],\n",
      "         [ 6,  6,  6,  ...,  0,  0,  0]],\n",
      "\n",
      "        [[ 0, -1, -2,  ..., -4, -5, -6],\n",
      "         [ 1,  0, -1,  ..., -3, -4, -5],\n",
      "         [ 2,  1,  0,  ..., -2, -3, -4],\n",
      "         ...,\n",
      "         [ 4,  3,  2,  ...,  0, -1, -2],\n",
      "         [ 5,  4,  3,  ...,  1,  0, -1],\n",
      "         [ 6,  5,  4,  ...,  2,  1,  0]]])\n"
     ]
    }
   ],
   "source": [
    "# [2, Mh*Mw, 1] - [2, 1, Mh*Mw]\n",
    "relative_coords = coords_flatten[:, :, None] - coords_flatten[:, None, :]  # [2, Mh*Mw, Mh*Mw]\n",
    "print(relative_coords.shape)\n",
    "print(relative_coords)"
   ]
  },
  {
   "cell_type": "code",
   "execution_count": 18,
   "metadata": {},
   "outputs": [
    {
     "name": "stdout",
     "output_type": "stream",
     "text": [
      "torch.Size([49, 49, 2])\n",
      "tensor([[[ 0,  0],\n",
      "         [ 0, -1],\n",
      "         [ 0, -2],\n",
      "         ...,\n",
      "         [-6, -4],\n",
      "         [-6, -5],\n",
      "         [-6, -6]],\n",
      "\n",
      "        [[ 0,  1],\n",
      "         [ 0,  0],\n",
      "         [ 0, -1],\n",
      "         ...,\n",
      "         [-6, -3],\n",
      "         [-6, -4],\n",
      "         [-6, -5]],\n",
      "\n",
      "        [[ 0,  2],\n",
      "         [ 0,  1],\n",
      "         [ 0,  0],\n",
      "         ...,\n",
      "         [-6, -2],\n",
      "         [-6, -3],\n",
      "         [-6, -4]],\n",
      "\n",
      "        ...,\n",
      "\n",
      "        [[ 6,  4],\n",
      "         [ 6,  3],\n",
      "         [ 6,  2],\n",
      "         ...,\n",
      "         [ 0,  0],\n",
      "         [ 0, -1],\n",
      "         [ 0, -2]],\n",
      "\n",
      "        [[ 6,  5],\n",
      "         [ 6,  4],\n",
      "         [ 6,  3],\n",
      "         ...,\n",
      "         [ 0,  1],\n",
      "         [ 0,  0],\n",
      "         [ 0, -1]],\n",
      "\n",
      "        [[ 6,  6],\n",
      "         [ 6,  5],\n",
      "         [ 6,  4],\n",
      "         ...,\n",
      "         [ 0,  2],\n",
      "         [ 0,  1],\n",
      "         [ 0,  0]]])\n"
     ]
    }
   ],
   "source": [
    "relative_coords = relative_coords.permute(1, 2, 0).contiguous()  # [Mh*Mw, Mh*Mw, 2]\n",
    "print(relative_coords.shape)\n",
    "print(relative_coords)"
   ]
  },
  {
   "cell_type": "code",
   "execution_count": null,
   "metadata": {},
   "outputs": [],
   "source": [
    "relative_coords[:, :, 0] += window_size[0] - 1  # shift to start from 0\n",
    "print(relative_coords.shape)\n",
    "print(relative_coords)\n",
    "relative_coords[:, :, 1] += window_size[1] - 1\n",
    "print(relative_coords.shape)\n",
    "print(relative_coords)\n",
    "relative_coords[:, :, 0] *= 2 * window_size[1] - 1\n",
    "print(relative_coords.shape)\n",
    "print(relative_coords)\n"
   ]
  },
  {
   "cell_type": "code",
   "execution_count": null,
   "metadata": {},
   "outputs": [],
   "source": [
    "relative_position_index = relative_coords.sum(-1)  # [Mh*Mw, Mh*Mw]\n",
    "print(relative_position_index.shape)\n",
    "print(relative_position_index)"
   ]
  }
 ],
 "metadata": {
  "interpreter": {
   "hash": "36e5de9c574c9cc55882ba42368a9f17b8afe201f20396b27fba2b387c169958"
  },
  "kernelspec": {
   "display_name": "Python 3.6.10 ('pytorch')",
   "language": "python",
   "name": "python3"
  },
  "language_info": {
   "codemirror_mode": {
    "name": "ipython",
    "version": 3
   },
   "file_extension": ".py",
   "mimetype": "text/x-python",
   "name": "python",
   "nbconvert_exporter": "python",
   "pygments_lexer": "ipython3",
   "version": "3.6.10"
  },
  "orig_nbformat": 4
 },
 "nbformat": 4,
 "nbformat_minor": 2
}
