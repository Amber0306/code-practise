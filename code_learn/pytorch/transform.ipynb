{
 "cells": [
  {
   "cell_type": "code",
   "execution_count": 2,
   "metadata": {},
   "outputs": [],
   "source": [
    "from torchvision import transforms\n",
    "from PIL import Image"
   ]
  },
  {
   "cell_type": "markdown",
   "metadata": {},
   "source": [
    "transform工具箱\n",
    "toTensor，，resize等工具\n",
    "\n",
    "通过transform.ToTensor去解决两个问题\n",
    "- 1.tranforms该如何使用\n",
    "- 2.tensor数据类型的不同之处\n",
    "  \n",
    "工具创建具体的工具，使用工具：输入图片，输出处理后图片\n",
    "result = tool(input)"
   ]
  },
  {
   "cell_type": "code",
   "execution_count": 5,
   "metadata": {},
   "outputs": [
    {
     "name": "stdout",
     "output_type": "stream",
     "text": [
      "<PIL.JpegImagePlugin.JpegImageFile image mode=RGB size=1080x1184 at 0x13CC47ADF60>\n"
     ]
    }
   ],
   "source": [
    "image_path = 'E:\\share\\code-practise\\pics\\pxh.jpg'\n",
    "img = Image.open(image_path)\n",
    "print(img)"
   ]
  },
  {
   "cell_type": "code",
   "execution_count": 6,
   "metadata": {},
   "outputs": [
    {
     "name": "stdout",
     "output_type": "stream",
     "text": [
      "tensor([[[0.1059, 0.1255, 0.1373,  ..., 0.1216, 0.1216, 0.1216],\n",
      "         [0.1059, 0.1255, 0.1373,  ..., 0.1216, 0.1216, 0.1216],\n",
      "         [0.1059, 0.1255, 0.1373,  ..., 0.1216, 0.1216, 0.1216],\n",
      "         ...,\n",
      "         [0.0667, 0.0863, 0.0980,  ..., 0.1333, 0.1294, 0.1255],\n",
      "         [0.0667, 0.0863, 0.0980,  ..., 0.1216, 0.1176, 0.1176],\n",
      "         [0.0667, 0.0863, 0.0980,  ..., 0.1137, 0.1098, 0.1098]],\n",
      "\n",
      "        [[0.0745, 0.0941, 0.1059,  ..., 0.1020, 0.1020, 0.1020],\n",
      "         [0.0745, 0.0941, 0.1059,  ..., 0.1020, 0.1020, 0.1020],\n",
      "         [0.0745, 0.0941, 0.1059,  ..., 0.1020, 0.1020, 0.1020],\n",
      "         ...,\n",
      "         [0.0745, 0.0941, 0.1059,  ..., 0.1373, 0.1333, 0.1294],\n",
      "         [0.0745, 0.0941, 0.1059,  ..., 0.1255, 0.1216, 0.1216],\n",
      "         [0.0745, 0.0941, 0.1059,  ..., 0.1176, 0.1137, 0.1137]],\n",
      "\n",
      "        [[0.0667, 0.0863, 0.0980,  ..., 0.0863, 0.0863, 0.0863],\n",
      "         [0.0667, 0.0863, 0.0980,  ..., 0.0863, 0.0863, 0.0863],\n",
      "         [0.0667, 0.0863, 0.0980,  ..., 0.0863, 0.0863, 0.0863],\n",
      "         ...,\n",
      "         [0.1216, 0.1412, 0.1529,  ..., 0.1569, 0.1529, 0.1490],\n",
      "         [0.1216, 0.1412, 0.1529,  ..., 0.1451, 0.1412, 0.1412],\n",
      "         [0.1216, 0.1412, 0.1529,  ..., 0.1373, 0.1333, 0.1333]]])\n"
     ]
    }
   ],
   "source": [
    "tensor_trans = transforms.ToTensor()\n",
    "tensor_img = tensor_trans(img)\n",
    "print(tensor_img)"
   ]
  }
 ],
 "metadata": {
  "interpreter": {
   "hash": "10e2f66ad254a986d59b2a855612166bbe41e1c910d0c6f6fbe42ff0ae514b74"
  },
  "kernelspec": {
   "display_name": "Python 3.8.8 ('pytorch-cpu-38')",
   "language": "python",
   "name": "python3"
  },
  "language_info": {
   "codemirror_mode": {
    "name": "ipython",
    "version": 3
   },
   "file_extension": ".py",
   "mimetype": "text/x-python",
   "name": "python",
   "nbconvert_exporter": "python",
   "pygments_lexer": "ipython3",
   "version": "3.6.13"
  },
  "orig_nbformat": 4
 },
 "nbformat": 4,
 "nbformat_minor": 2
}
